{
  "nbformat": 4,
  "nbformat_minor": 0,
  "metadata": {
    "colab": {
      "provenance": [],
      "authorship_tag": "ABX9TyMHu7Nd37CGr7t86p52PjdK",
      "include_colab_link": true
    },
    "kernelspec": {
      "name": "python3",
      "display_name": "Python 3"
    },
    "language_info": {
      "name": "python"
    }
  },
  "cells": [
    {
      "cell_type": "markdown",
      "metadata": {
        "id": "view-in-github",
        "colab_type": "text"
      },
      "source": [
        "<a href=\"https://colab.research.google.com/github/ManoPrakash6/outsourcing-linear-equation/blob/main/Satyabrat_Client.ipynb\" target=\"_parent\"><img src=\"https://colab.research.google.com/assets/colab-badge.svg\" alt=\"Open In Colab\"/></a>"
      ]
    },
    {
      "cell_type": "code",
      "execution_count": 1,
      "metadata": {
        "id": "nKEC6UqCmWVg"
      },
      "outputs": [],
      "source": [
        "import numpy as np"
      ]
    },
    {
      "cell_type": "code",
      "source": [
        "print('new scheme')\n",
        "n = int(input('size of matrix: '))\n",
        "\n",
        "A = np.random.rand(n, n)\n",
        "b = np.random.rand(n, 1)"
      ],
      "metadata": {
        "colab": {
          "base_uri": "https://localhost:8080/"
        },
        "id": "k3Fsr-oQmfWz",
        "outputId": "5d71f6a2-87ce-498c-8603-61f7e46c22cf"
      },
      "execution_count": 2,
      "outputs": [
        {
          "name": "stdout",
          "output_type": "stream",
          "text": [
            "new scheme\n",
            "size of matrix: 3\n"
          ]
        }
      ]
    },
    {
      "cell_type": "code",
      "source": [
        "print('KeyGen')\n",
        "\n",
        "alpha = np.random.rand()\n",
        "beta = np.random.rand()\n",
        "s = np.random.randint(1, 51)\n",
        "k = np.random.randint(1, s+1)\n",
        "l = np.random.randint(1, s+1)\n",
        "\n",
        "B = np.random.rand(s, k)\n",
        "B1 = np.random.rand(s, l)\n",
        "B = B @ B.T\n",
        "B1 = B1 @ B1.T"
      ],
      "metadata": {
        "colab": {
          "base_uri": "https://localhost:8080/"
        },
        "id": "WesZJ3PQmhyr",
        "outputId": "b40b204c-727d-4ca2-f471-13c7c025c0fa"
      },
      "execution_count": 3,
      "outputs": [
        {
          "output_type": "stream",
          "name": "stdout",
          "text": [
            "KeyGen\n"
          ]
        }
      ]
    },
    {
      "cell_type": "code",
      "source": [
        "P = np.zeros((n+2*s, n+2*s))\n",
        "\n",
        "for i in range(n+2*s):\n",
        "    l = 0\n",
        "    for k in range(9):\n",
        "        j = np.random.randint(n+2*s)\n",
        "        if j != i:\n",
        "            P[i, j] = np.random.rand()\n",
        "        l += P[i, j]\n",
        "    P[i, i] = l + 1\n",
        "\n",
        "r = np.random.rand(n, 1)"
      ],
      "metadata": {
        "id": "aI6gpg6LmlP0"
      },
      "execution_count": 4,
      "outputs": []
    },
    {
      "cell_type": "code",
      "source": [
        "print('ProbGen')\n",
        "\n",
        "T = np.block([[B, np.zeros((s, n)), alpha*B1],\n",
        "              [np.zeros((n, s)), A, np.zeros((n, s))],\n",
        "              [beta*B, np.zeros((s, n)), B1]])\n",
        "T1 = P @ T\n",
        "d = np.block([np.zeros((s, 1)).T, (b + A @ r).T, np.zeros((s, 1)).T]).T\n",
        "d1 = P @ d"
      ],
      "metadata": {
        "colab": {
          "base_uri": "https://localhost:8080/"
        },
        "id": "2cQu8-3DhAZk",
        "outputId": "5425f19d-a9d0-46c9-944c-28ef73395c08"
      },
      "execution_count": 19,
      "outputs": [
        {
          "output_type": "stream",
          "name": "stdout",
          "text": [
            "ProbGen\n"
          ]
        }
      ]
    },
    {
      "cell_type": "code",
      "source": [
        "(b + A @ r).T"
      ],
      "metadata": {
        "colab": {
          "base_uri": "https://localhost:8080/"
        },
        "id": "3ychf2MkhN_3",
        "outputId": "4c770783-7839-4f52-87a8-79dbfdec5ccc"
      },
      "execution_count": 10,
      "outputs": [
        {
          "output_type": "execute_result",
          "data": {
            "text/plain": [
              "array([[0.64777807, 0.73024643, 1.04622084]])"
            ]
          },
          "metadata": {},
          "execution_count": 10
        }
      ]
    },
    {
      "cell_type": "code",
      "source": [
        "# Variables to Server\n",
        "# T1 and d1\n",
        "np.savetxt('T1.txt', T1, delimiter=',')\n",
        "np.savetxt('d1.txt', d1, delimiter=',')"
      ],
      "metadata": {
        "id": "jMVbVMtph0Jb"
      },
      "execution_count": 26,
      "outputs": []
    },
    {
      "cell_type": "code",
      "source": [
        "# Once we get w from server, we run the following code\n",
        "w = np.loadtxt(\"w1.txt\", delimiter=',')\n",
        "w = w.reshape(w.shape[0], 1)\n",
        "z = T1 @ w\n",
        "if np.linalg.norm(z-d1) < 10**(-3):\n",
        "    c = 1\n",
        "else:\n",
        "    c = 0\n",
        "\n",
        "print('Result')\n",
        "\n",
        "if c == 1:\n",
        "    o1 = w[s:s+n]\n",
        "    x = o1 - r\n",
        "else:\n",
        "    print('Wrong')\n"
      ],
      "metadata": {
        "colab": {
          "base_uri": "https://localhost:8080/"
        },
        "id": "SCKET4-ikVcJ",
        "outputId": "44ce3b1f-38da-44c6-cb1f-a3165050e40a"
      },
      "execution_count": 39,
      "outputs": [
        {
          "output_type": "stream",
          "name": "stdout",
          "text": [
            "Result\n",
            "Wrong\n"
          ]
        }
      ]
    }
  ]
}