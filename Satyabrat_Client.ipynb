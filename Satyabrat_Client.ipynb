{
  "nbformat": 4,
  "nbformat_minor": 0,
  "metadata": {
    "colab": {
      "provenance": [],
      "authorship_tag": "ABX9TyNLJbEOq3i2hEj1REHxeLA4",
      "include_colab_link": true
    },
    "kernelspec": {
      "name": "python3",
      "display_name": "Python 3"
    },
    "language_info": {
      "name": "python"
    }
  },
  "cells": [
    {
      "cell_type": "markdown",
      "metadata": {
        "id": "view-in-github",
        "colab_type": "text"
      },
      "source": [
        "<a href=\"https://colab.research.google.com/github/ManoPrakash6/outsourcing-linear-equation/blob/main/Satyabrat_Client.ipynb\" target=\"_parent\"><img src=\"https://colab.research.google.com/assets/colab-badge.svg\" alt=\"Open In Colab\"/></a>"
      ]
    },
    {
      "cell_type": "code",
      "execution_count": 1,
      "metadata": {
        "id": "nKEC6UqCmWVg"
      },
      "outputs": [],
      "source": [
        "import numpy as np"
      ]
    },
    {
      "cell_type": "code",
      "source": [
        "print('new scheme')\n",
        "n = int(input('size of matrix: '))\n",
        "\n",
        "A = np.random.rand(n, n)\n",
        "b = np.random.rand(n, 1)"
      ],
      "metadata": {
        "colab": {
          "base_uri": "https://localhost:8080/"
        },
        "id": "k3Fsr-oQmfWz",
        "outputId": "9f78cbdd-0569-4876-ab9a-8e1bf04959d5"
      },
      "execution_count": 40,
      "outputs": [
        {
          "name": "stdout",
          "output_type": "stream",
          "text": [
            "new scheme\n",
            "size of matrix: 3\n"
          ]
        }
      ]
    },
    {
      "cell_type": "code",
      "source": [
        "print('KeyGen')\n",
        "\n",
        "alpha = np.random.rand()\n",
        "beta = np.random.rand()\n",
        "s = np.random.randint(1, 50)\n",
        "k = np.random.randint(1, s)\n",
        "l = np.random.randint(1, s)\n",
        "\n",
        "B = np.random.rand(s, k)\n",
        "B1 = np.random.rand(s, l)\n",
        "B = B @ B.T\n",
        "B1 = B1 @ B1.T"
      ],
      "metadata": {
        "colab": {
          "base_uri": "https://localhost:8080/"
        },
        "id": "WesZJ3PQmhyr",
        "outputId": "0b640fba-dcf6-4efb-9b91-c52f8f1c750e"
      },
      "execution_count": 41,
      "outputs": [
        {
          "output_type": "stream",
          "name": "stdout",
          "text": [
            "KeyGen\n"
          ]
        }
      ]
    },
    {
      "cell_type": "code",
      "source": [
        "P = np.zeros((n+2*s, n+2*s))\n",
        "\n",
        "for i in range(n+2*s):\n",
        "    l = 0\n",
        "    for k in range(9):\n",
        "        j = np.random.randint(n+2*s)\n",
        "        if j != i:\n",
        "            P[i, j] = np.random.rand()\n",
        "            l += P[i, j]\n",
        "    P[i, i] = l + 1\n",
        "\n",
        "r = np.random.rand(n, 1)"
      ],
      "metadata": {
        "id": "aI6gpg6LmlP0"
      },
      "execution_count": 44,
      "outputs": []
    },
    {
      "cell_type": "code",
      "source": [
        "print('ProbGen')\n",
        "\n",
        "T = np.block([[B, np.zeros((s, n)), alpha*B1],\n",
        "              [np.zeros((n, s)), A, np.zeros((n, s))],\n",
        "              [beta*B, np.zeros((s, n)), B1]])\n",
        "T1 = P @ T\n",
        "d = np.block([np.zeros((s, 1)).T, (b + A @ r).T, np.zeros((s, 1)).T]).T\n",
        "d1 = P @ d"
      ],
      "metadata": {
        "colab": {
          "base_uri": "https://localhost:8080/"
        },
        "id": "2cQu8-3DhAZk",
        "outputId": "89cd65b7-4a54-4137-b82f-b452f579f2f9"
      },
      "execution_count": 45,
      "outputs": [
        {
          "output_type": "stream",
          "name": "stdout",
          "text": [
            "ProbGen\n"
          ]
        }
      ]
    },
    {
      "cell_type": "code",
      "source": [
        "d1.shape"
      ],
      "metadata": {
        "colab": {
          "base_uri": "https://localhost:8080/"
        },
        "id": "3ychf2MkhN_3",
        "outputId": "a30e51c0-9b09-494c-f136-c639bdd07d9a"
      },
      "execution_count": 51,
      "outputs": [
        {
          "output_type": "execute_result",
          "data": {
            "text/plain": [
              "(97, 1)"
            ]
          },
          "metadata": {},
          "execution_count": 51
        }
      ]
    },
    {
      "cell_type": "code",
      "source": [
        "# Variables to Server\n",
        "# T1 and d1\n",
        "np.savetxt('T1.txt', T1, delimiter=',')\n",
        "np.savetxt('d1.txt', d1, delimiter=',')"
      ],
      "metadata": {
        "id": "jMVbVMtph0Jb"
      },
      "execution_count": 52,
      "outputs": []
    },
    {
      "cell_type": "code",
      "source": [
        "# Once we get w from server, we run the following code\n",
        "w = np.loadtxt(\"w1_1.txt\", delimiter=',')\n",
        "w = w.reshape(w.shape[0], 1)\n",
        "z = T1 @ w\n",
        "if np.linalg.norm(z-d1) < 10**(-3):\n",
        "    c = 1\n",
        "else:\n",
        "    c = 0\n",
        "\n",
        "print('Result')\n",
        "\n",
        "if c == 1:\n",
        "    o1 = w[s:s+n]\n",
        "    x = o1 - r\n",
        "else:\n",
        "    print('Wrong')\n"
      ],
      "metadata": {
        "colab": {
          "base_uri": "https://localhost:8080/"
        },
        "id": "SCKET4-ikVcJ",
        "outputId": "192fb4d8-040d-46ff-d391-07cdeda2737a"
      },
      "execution_count": 53,
      "outputs": [
        {
          "output_type": "stream",
          "name": "stdout",
          "text": [
            "Result\n",
            "Wrong\n"
          ]
        }
      ]
    },
    {
      "cell_type": "code",
      "source": [
        "np.linalg.norm(z-d1)"
      ],
      "metadata": {
        "colab": {
          "base_uri": "https://localhost:8080/"
        },
        "id": "0pte4ld5yGmH",
        "outputId": "0b4f55d3-af92-4429-a7de-6ac956ceb6e5"
      },
      "execution_count": 54,
      "outputs": [
        {
          "output_type": "execute_result",
          "data": {
            "text/plain": [
              "135.71668385377393"
            ]
          },
          "metadata": {},
          "execution_count": 54
        }
      ]
    }
  ]
}